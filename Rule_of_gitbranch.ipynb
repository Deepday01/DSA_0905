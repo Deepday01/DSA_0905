{
 "cells": [
  {
   "cell_type": "markdown",
   "metadata": {},
   "source": [
    "### 브랜치 규칙"
   ]
  },
  {
   "cell_type": "markdown",
   "metadata": {},
   "source": [
    "\n",
    "#### Main 제품으로 출시될 수 있는 브랜치\n",
    "원래 이름 그대로 사용\n",
    "\n",
    "#### Develop 다음 출시 버전을 개발하는 브랜치\n",
    "원래 이름 그대로 사용\n",
    "\n",
    "#### feature 기능 개발 브랜치\n",
    "feature/기능요약  \n",
    "    # Develop 브랜치에서 분기  \n",
    "    # 이슈 추적을 위한 브랜치  \n",
    "    feature/{issue-number}-{feature-name}  \n",
    "\n",
    "#### 핫픽스 디버깅 브랜치\n",
    "hotfix-1.1.1    \n",
    "    # 1.1버전의 디버깅  \n",
    "    # main에서 분기  \n",
    "    # main 및 develop 브랜치에 merge  \n",
    "\n",
    "#### 배포용 브랜치\n",
    "release-1.1   \n",
    "    # 1.1버전\n",
    "\n",
    "\n",
    "\n"
   ]
  },
  {
   "cell_type": "markdown",
   "metadata": {},
   "source": []
  }
 ],
 "metadata": {
  "language_info": {
   "name": "python"
  }
 },
 "nbformat": 4,
 "nbformat_minor": 2
}
